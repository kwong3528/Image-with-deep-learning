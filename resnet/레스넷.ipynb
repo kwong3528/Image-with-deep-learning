{
  "nbformat": 4,
  "nbformat_minor": 0,
  "metadata": {
    "colab": {
      "name": "레스넷.ipynb",
      "provenance": [],
      "toc_visible": true
    },
    "kernelspec": {
      "name": "python3",
      "display_name": "Python 3"
    },
    "accelerator": "GPU"
  },
  "cells": [
    {
      "cell_type": "code",
      "metadata": {
        "id": "ilPBjHSWDiRC",
        "colab_type": "code",
        "outputId": "4be0a689-8f37-4a61-9846-78b5502b4ac0",
        "colab": {
          "base_uri": "https://localhost:8080/",
          "height": 53
        }
      },
      "source": [
        "import os\n",
        "from tensorflow.keras.preprocessing.image import ImageDataGenerator\n",
        "\n",
        "# 위노그라드 알고리즘 설정\n",
        "os.environ['TF_ENABLE_WINOGRAD_NONFUSED'] = '1'\n",
        "\n",
        "rootPath = '/content/drive/My Drive/colab/dog and cat/DATA/'\n",
        "\n",
        "imageGenerator = ImageDataGenerator(\n",
        "    rescale=1./255,\n",
        "    rotation_range=20,\n",
        "    width_shift_range=0.1,\n",
        "    height_shift_range=0.1,\n",
        "    brightness_range=[.2, .2],\n",
        "    horizontal_flip=True,\n",
        "    validation_split=.1\n",
        ")\n",
        "\n",
        "\n",
        "trainGen = imageGenerator.flow_from_directory(\n",
        "    os.path.join(rootPath, 'train'),\n",
        "    target_size=(224, 224),\n",
        "    subset='training'\n",
        ")\n",
        "\n",
        "validationGen = imageGenerator.flow_from_directory(\n",
        "    os.path.join(rootPath, 'train'),\n",
        "    target_size=(224, 224),\n",
        "    subset='validation'\n",
        ")"
      ],
      "execution_count": 15,
      "outputs": [
        {
          "output_type": "stream",
          "text": [
            "Found 22500 images belonging to 2 classes.\n",
            "Found 2500 images belonging to 2 classes.\n"
          ],
          "name": "stdout"
        }
      ]
    },
    {
      "cell_type": "code",
      "metadata": {
        "id": "AEACviRYDpOl",
        "colab_type": "code",
        "colab": {}
      },
      "source": [
        "from tensorflow.keras.applications import ResNet50\n",
        "from tensorflow.keras.models import Sequential\n",
        "from tensorflow.keras import layers\n",
        "from keras.layers import Dropout, Flatten, Dense"
      ],
      "execution_count": 0,
      "outputs": []
    },
    {
      "cell_type": "code",
      "metadata": {
        "id": "YbzXWiOpMQlm",
        "colab_type": "code",
        "outputId": "596e3c05-1ef3-49a5-85f1-6d32df194a2b",
        "colab": {
          "base_uri": "https://localhost:8080/",
          "height": 197
        }
      },
      "source": [
        "model = Sequential()\n",
        "model.add(ResNet50(include_top=True, weights=None, input_shape=(224, 224, 3), classes=2))\n",
        "\n",
        "model.summary()"
      ],
      "execution_count": 21,
      "outputs": [
        {
          "output_type": "stream",
          "text": [
            "Model: \"sequential_1\"\n",
            "_________________________________________________________________\n",
            "Layer (type)                 Output Shape              Param #   \n",
            "=================================================================\n",
            "resnet50 (Model)             (None, 2)                 23591810  \n",
            "=================================================================\n",
            "Total params: 23,591,810\n",
            "Trainable params: 23,538,690\n",
            "Non-trainable params: 53,120\n",
            "_________________________________________________________________\n"
          ],
          "name": "stdout"
        }
      ]
    },
    {
      "cell_type": "code",
      "metadata": {
        "id": "JWAgncMBNqpC",
        "colab_type": "code",
        "colab": {}
      },
      "source": [
        "model.compile(\n",
        "    optimizer='adam',\n",
        "    loss='binary_crossentropy', \n",
        "    metrics=['acc'],\n",
        ")"
      ],
      "execution_count": 0,
      "outputs": []
    },
    {
      "cell_type": "code",
      "metadata": {
        "id": "cMfi6MHSReBo",
        "colab_type": "code",
        "colab": {}
      },
      "source": [
        "from tensorflow.keras.models import load_model"
      ],
      "execution_count": 0,
      "outputs": []
    },
    {
      "cell_type": "code",
      "metadata": {
        "id": "DqRypyehRZf-",
        "colab_type": "code",
        "colab": {}
      },
      "source": [
        "model = load_model('/content/drive/My Drive/colab/dog and cat/DATA/224_weight_resnet.h5')"
      ],
      "execution_count": 0,
      "outputs": []
    },
    {
      "cell_type": "code",
      "metadata": {
        "id": "zogRJgcsN47M",
        "colab_type": "code",
        "outputId": "282bf108-dcc0-41be-a178-019ac189d45c",
        "collapsed": true,
        "colab": {
          "base_uri": "https://localhost:8080/",
          "height": 233
        }
      },
      "source": [
        "epochs = 3\n",
        "history = model.fit_generator(\n",
        "    trainGen,\n",
        "    epochs=epochs,\n",
        "    steps_per_epoch=100,\n",
        "    validation_data=validationGen,\n",
        "    validation_steps=100)"
      ],
      "execution_count": 31,
      "outputs": [
        {
          "output_type": "stream",
          "text": [
            "Epoch 1/3\n",
            " 99/100 [============================>.] - ETA: 12s - loss: 0.0921 - acc: 0.9653Epoch 1/3\n",
            "100/100 [==============================] - 1113s 11s/step - loss: 0.1949 - acc: 0.9218\n",
            "100/100 [==============================] - 2338s 23s/step - loss: 0.0916 - acc: 0.9653 - val_loss: 0.1949 - val_acc: 0.9218\n",
            "Epoch 2/3\n",
            " 99/100 [============================>.] - ETA: 10s - loss: 0.0735 - acc: 0.9725Epoch 1/3\n",
            "100/100 [==============================] - 62s 621ms/step - loss: 0.1387 - acc: 0.9417\n",
            "100/100 [==============================] - 1113s 11s/step - loss: 0.0738 - acc: 0.9725 - val_loss: 0.1387 - val_acc: 0.9417\n",
            "Epoch 3/3\n",
            " 99/100 [============================>.] - ETA: 10s - loss: 0.0774 - acc: 0.9681Epoch 1/3\n",
            "100/100 [==============================] - 62s 619ms/step - loss: 0.1755 - acc: 0.9288\n",
            "100/100 [==============================] - 1138s 11s/step - loss: 0.0779 - acc: 0.9681 - val_loss: 0.1755 - val_acc: 0.9288\n"
          ],
          "name": "stdout"
        }
      ]
    },
    {
      "cell_type": "markdown",
      "metadata": {
        "id": "XIBRBUL7kS8Z",
        "colab_type": "text"
      },
      "source": [
        ""
      ]
    },
    {
      "cell_type": "code",
      "metadata": {
        "id": "o-L7TavrRWnM",
        "colab_type": "code",
        "colab": {}
      },
      "source": [
        "#모델저장\n",
        "resnet50_model_path = '/content/drive/My Drive/colab/dog and cat/DATA/224_weight_resnet.h5'\n",
        "model.save(resnet50_model_path)"
      ],
      "execution_count": 0,
      "outputs": []
    },
    {
      "cell_type": "markdown",
      "metadata": {
        "id": "A_IOIETYPDN-",
        "colab_type": "text"
      },
      "source": [
        "# 학습결과의 시각화"
      ]
    },
    {
      "cell_type": "code",
      "metadata": {
        "id": "qbEbCgKDN7SU",
        "colab_type": "code",
        "colab": {}
      },
      "source": [
        "# import matplotlib.pyplot as plt\n",
        "\n",
        "# def show_graph(history_dict):\n",
        "#     accuracy = history_dict['acc']\n",
        "#     val_accuracy = history_dict['val_acc']\n",
        "#     loss = history_dict['loss']\n",
        "#     val_loss = history_dict['val_loss']\n",
        "\n",
        "#     epochs = range(1, len(loss) + 1)\n",
        "    \n",
        "#     plt.figure(figsize=(16, 1))\n",
        "    \n",
        "#     plt.subplot(121)\n",
        "#     plt.subplots_adjust(top=2)\n",
        "#     plt.plot(epochs, accuracy, 'ro', label='Training accuracy')\n",
        "#     plt.plot(epochs, val_accuracy, 'r', label='Validation accuracy')\n",
        "#     plt.title('Trainging and validation accuracy and loss')\n",
        "#     plt.xlabel('Epochs')\n",
        "#     plt.ylabel('Accuracy and Loss')\n",
        "\n",
        "#     plt.legend(loc='upper center', bbox_to_anchor=(0.5, -0.1),\n",
        "#               fancybox=True, shadow=True, ncol=5)\n",
        "# #     plt.legend(bbox_to_anchor=(1, -0.1))\n",
        "\n",
        "#     plt.subplot(122)\n",
        "#     plt.plot(epochs, loss, 'bo', label='Training loss')\n",
        "#     plt.plot(epochs, val_loss, 'b', label='Validation loss')\n",
        "#     plt.title('Training and validation loss')\n",
        "#     plt.xlabel('Epochs')\n",
        "#     plt.ylabel('Loss')\n",
        "#     plt.legend(loc='upper center', bbox_to_anchor=(0.5, -0.1),\n",
        "#           fancybox=True, shadow=True, ncol=5)\n",
        "# #     plt.legend(bbox_to_anchor=(1, 0))\n",
        "\n",
        "#     plt.show()"
      ],
      "execution_count": 0,
      "outputs": []
    },
    {
      "cell_type": "code",
      "metadata": {
        "id": "oqZtyUHDPI7U",
        "colab_type": "code",
        "colab": {}
      },
      "source": [
        "# show_graph(history.history)"
      ],
      "execution_count": 0,
      "outputs": []
    },
    {
      "cell_type": "markdown",
      "metadata": {
        "id": "83BYprvVPPaU",
        "colab_type": "text"
      },
      "source": [
        "# 모델 평가"
      ]
    },
    {
      "cell_type": "code",
      "metadata": {
        "id": "8ffGkGd5HE6R",
        "colab_type": "code",
        "colab": {}
      },
      "source": [
        "from tensorflow.keras.models import load_model"
      ],
      "execution_count": 0,
      "outputs": []
    },
    {
      "cell_type": "code",
      "metadata": {
        "id": "Yk1Je1qWHJot",
        "colab_type": "code",
        "colab": {}
      },
      "source": [
        "model = load_model('/content/drive/My Drive/colab/dog and cat/DATA/224_weight_resnet.h5')"
      ],
      "execution_count": 0,
      "outputs": []
    },
    {
      "cell_type": "code",
      "metadata": {
        "id": "0eoksJJEPREt",
        "colab_type": "code",
        "outputId": "8a640f79-ae76-486b-df71-1cfe157237ad",
        "colab": {
          "base_uri": "https://localhost:8080/",
          "height": 53
        }
      },
      "source": [
        "testGenerator = ImageDataGenerator(\n",
        "    rescale=1./255\n",
        ")\n",
        "\n",
        "testGen = imageGenerator.flow_from_directory(\n",
        "    os.path.join(rootPath, 'test1'),\n",
        "    target_size=(224, 224),\n",
        ")\n",
        "\n",
        "model.evaluate_generator(testGen)"
      ],
      "execution_count": 36,
      "outputs": [
        {
          "output_type": "stream",
          "text": [
            "Found 2258 images belonging to 2 classes.\n"
          ],
          "name": "stdout"
        },
        {
          "output_type": "execute_result",
          "data": {
            "text/plain": [
              "[0.12642775599280714, 0.9477414]"
            ]
          },
          "metadata": {
            "tags": []
          },
          "execution_count": 36
        }
      ]
    }
  ]
}