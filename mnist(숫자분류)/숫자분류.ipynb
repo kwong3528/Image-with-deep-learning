{
  "nbformat": 4,
  "nbformat_minor": 0,
  "metadata": {
    "colab": {
      "name": "숫자분류.ipynb",
      "provenance": [],
      "toc_visible": true
    },
    "kernelspec": {
      "name": "python3",
      "display_name": "Python 3"
    },
    "accelerator": "GPU"
  },
  "cells": [
    {
      "cell_type": "code",
      "metadata": {
        "id": "caJIaQn4ZahH",
        "colab_type": "code",
        "colab": {}
      },
      "source": [
        "from keras.datasets import mnist\n",
        "import numpy as np"
      ],
      "execution_count": 0,
      "outputs": []
    },
    {
      "cell_type": "code",
      "metadata": {
        "id": "VdODXcv04JXs",
        "colab_type": "code",
        "colab": {
          "base_uri": "https://localhost:8080/",
          "height": 52
        },
        "outputId": "e1629fea-0727-44c0-ff88-f0d88d0b6db4"
      },
      "source": [
        "(train_images, train_labels), (test_images, test_labels) = mnist.load_data()"
      ],
      "execution_count": 4,
      "outputs": [
        {
          "output_type": "stream",
          "text": [
            "Downloading data from https://s3.amazonaws.com/img-datasets/mnist.npz\n",
            "11493376/11490434 [==============================] - 0s 0us/step\n"
          ],
          "name": "stdout"
        }
      ]
    },
    {
      "cell_type": "code",
      "metadata": {
        "id": "kuBwkQRR4WFa",
        "colab_type": "code",
        "outputId": "ca4be0e9-ba4c-40eb-8721-609c21e1ccbc",
        "colab": {
          "base_uri": "https://localhost:8080/",
          "height": 88
        }
      },
      "source": [
        "print(train_images.shape)\n",
        "print(train_labels.shape)\n",
        "print(test_images.shape)\n",
        "print(test_labels.shape)"
      ],
      "execution_count": 5,
      "outputs": [
        {
          "output_type": "stream",
          "text": [
            "(60000, 28, 28)\n",
            "(60000,)\n",
            "(10000, 28, 28)\n",
            "(10000,)\n"
          ],
          "name": "stdout"
        }
      ]
    },
    {
      "cell_type": "code",
      "metadata": {
        "id": "dPOCWUvJ4b-Q",
        "colab_type": "code",
        "outputId": "2a71f68f-af86-45d2-c68b-a61c54fc819c",
        "colab": {
          "base_uri": "https://localhost:8080/",
          "height": 35
        }
      },
      "source": [
        "train_images[0]\n",
        "train_labels[0]"
      ],
      "execution_count": 8,
      "outputs": [
        {
          "output_type": "execute_result",
          "data": {
            "text/plain": [
              "5"
            ]
          },
          "metadata": {
            "tags": []
          },
          "execution_count": 8
        }
      ]
    },
    {
      "cell_type": "markdown",
      "metadata": {
        "id": "pOdRAvkl5GuW",
        "colab_type": "text"
      },
      "source": [
        "# MNIST 데이터 확인"
      ]
    },
    {
      "cell_type": "code",
      "metadata": {
        "id": "-Q3EEYWt4wg4",
        "colab_type": "code",
        "outputId": "f1b89d2b-9c7c-459d-e064-ec2b2d4f23fe",
        "colab": {
          "base_uri": "https://localhost:8080/",
          "height": 265
        }
      },
      "source": [
        "import matplotlib.pyplot as plt\n",
        "\n",
        "digit = train_images[0]\n",
        "\n",
        "plt.imshow(digit, cmap=plt.cm.binary)\n",
        "plt.show()"
      ],
      "execution_count": 9,
      "outputs": [
        {
          "output_type": "display_data",
          "data": {
            "image/png": "[encoded data removed]",
            "text/plain": [
              "<Figure size 432x288 with 1 Axes>"
            ]
          },
          "metadata": {
            "tags": []
          }
        }
      ]
    },
    {
      "cell_type": "code",
      "metadata": {
        "id": "g8YqdfJe5Vz-",
        "colab_type": "code",
        "colab": {}
      },
      "source": [
        "val_images = train_images[50000:]\n",
        "val_labels = train_labels[50000:]\n",
        "train_images = train_images[:50000]\n",
        "train_labels = train_labels[:50000]"
      ],
      "execution_count": 0,
      "outputs": []
    },
    {
      "cell_type": "code",
      "metadata": {
        "id": "iItFoUjJGMCu",
        "colab_type": "code",
        "outputId": "f014d6b2-6bea-4719-bc45-0c4f43719833",
        "colab": {
          "base_uri": "https://localhost:8080/",
          "height": 35
        }
      },
      "source": [
        "train_labels.shape"
      ],
      "execution_count": 11,
      "outputs": [
        {
          "output_type": "execute_result",
          "data": {
            "text/plain": [
              "(50000,)"
            ]
          },
          "metadata": {
            "tags": []
          },
          "execution_count": 11
        }
      ]
    },
    {
      "cell_type": "code",
      "metadata": {
        "id": "PMKfqfzC5_7N",
        "colab_type": "code",
        "colab": {}
      },
      "source": [
        "# shape 변경\n",
        "train_data = train_images.reshape((50000, 28 * 28))\n",
        "val_data = val_images.reshape((10000, 28 * 28))\n",
        "test_data = test_images.reshape((10000, 28 * 28))"
      ],
      "execution_count": 0,
      "outputs": []
    },
    {
      "cell_type": "code",
      "metadata": {
        "id": "52D087bq6G0G",
        "colab_type": "code",
        "colab": {}
      },
      "source": [
        "#스케일링\n",
        "train_data = train_data.astype('float32')/255\n",
        "val_data = val_data.astype('float32')/255\n",
        "test_data = test_data.astype('float32')/255"
      ],
      "execution_count": 0,
      "outputs": []
    },
    {
      "cell_type": "code",
      "metadata": {
        "id": "IOoTgG7oEnV1",
        "colab_type": "code",
        "colab": {}
      },
      "source": [
        "#target 변수 범주화\n",
        "from keras.utils import to_categorical"
      ],
      "execution_count": 0,
      "outputs": []
    },
    {
      "cell_type": "code",
      "metadata": {
        "id": "hBAtwowu63w5",
        "colab_type": "code",
        "colab": {}
      },
      "source": [
        "train_labels = to_categorical(train_labels)\n",
        "val_labels = to_categorical(val_labels)\n",
        "test_labels = to_categorical(test_labels)"
      ],
      "execution_count": 0,
      "outputs": []
    },
    {
      "cell_type": "code",
      "metadata": {
        "id": "E64cKjA7EhB4",
        "colab_type": "code",
        "outputId": "4460a1fd-f0f3-4103-c313-04c7c2ef2ac5",
        "colab": {
          "base_uri": "https://localhost:8080/",
          "height": 88
        }
      },
      "source": [
        "print(train_data.shape)\n",
        "print(train_labels.shape)\n",
        "print(val_data.shape)\n",
        "print(val_data.shape)"
      ],
      "execution_count": 16,
      "outputs": [
        {
          "output_type": "stream",
          "text": [
            "(50000, 784)\n",
            "(50000, 10)\n",
            "(10000, 784)\n",
            "(10000, 784)\n"
          ],
          "name": "stdout"
        }
      ]
    },
    {
      "cell_type": "code",
      "metadata": {
        "id": "GWPnSTgi7M1s",
        "colab_type": "code",
        "colab": {}
      },
      "source": [
        "from keras import models, layers"
      ],
      "execution_count": 0,
      "outputs": []
    },
    {
      "cell_type": "code",
      "metadata": {
        "id": "1FRzbBYx9BR2",
        "colab_type": "code",
        "outputId": "dc47bfc7-470c-4712-9c65-8cf211fa124a",
        "colab": {
          "base_uri": "https://localhost:8080/",
          "height": 215
        }
      },
      "source": [
        "model = models.Sequential()\n",
        "\n",
        "model.add(layers.Dense(512, activation = 'relu',\n",
        "                     input_shape=(28* 28,)))\n",
        "\n",
        "# target 개수 맞춰 output\n",
        "model.add(layers.Dense(10, activation='softmax'))\n",
        "#옵티마이저, 손실함수, 모니터링 지표\n",
        "model.compile(optimizer='rmsprop',\n",
        "             loss='categorical_crossentropy',\n",
        "              metrics=['accuracy'])"
      ],
      "execution_count": 18,
      "outputs": [
        {
          "output_type": "stream",
          "text": [
            "WARNING:tensorflow:From /usr/local/lib/python3.6/dist-packages/keras/backend/tensorflow_backend.py:66: The name tf.get_default_graph is deprecated. Please use tf.compat.v1.get_default_graph instead.\n",
            "\n",
            "WARNING:tensorflow:From /usr/local/lib/python3.6/dist-packages/keras/backend/tensorflow_backend.py:541: The name tf.placeholder is deprecated. Please use tf.compat.v1.placeholder instead.\n",
            "\n",
            "WARNING:tensorflow:From /usr/local/lib/python3.6/dist-packages/keras/backend/tensorflow_backend.py:4432: The name tf.random_uniform is deprecated. Please use tf.random.uniform instead.\n",
            "\n",
            "WARNING:tensorflow:From /usr/local/lib/python3.6/dist-packages/keras/optimizers.py:793: The name tf.train.Optimizer is deprecated. Please use tf.compat.v1.train.Optimizer instead.\n",
            "\n",
            "WARNING:tensorflow:From /usr/local/lib/python3.6/dist-packages/keras/backend/tensorflow_backend.py:3576: The name tf.log is deprecated. Please use tf.math.log instead.\n",
            "\n"
          ],
          "name": "stdout"
        }
      ]
    },
    {
      "cell_type": "code",
      "metadata": {
        "id": "lxHYyWkYBGdc",
        "colab_type": "code",
        "colab": {}
      },
      "source": [
        "from keras.callbacks import EarlyStopping, ModelCheckpoint\n",
        "file_path = 'save_best'\n",
        "checkpoint = ModelCheckpoint(file_path, monitor = 'val_loss', verbose = 1, save_best_only=True)\n",
        "early_stop = EarlyStopping(monitor = 'val_loss', patience = 30)"
      ],
      "execution_count": 0,
      "outputs": []
    },
    {
      "cell_type": "code",
      "metadata": {
        "id": "VQGOuGA79P8H",
        "colab_type": "code",
        "collapsed": true,
        "outputId": "f6255039-8624-43fc-e7de-de57e524a575",
        "colab": {
          "base_uri": "https://localhost:8080/",
          "height": 1000
        }
      },
      "source": [
        "#모델 학습 early stop\n",
        "hist = model.fit(train_data, train_labels, epochs=100, batch_size = 128, validation_data =(val_data, val_labels),\n",
        "                callbacks=[early_stop])"
      ],
      "execution_count": 25,
      "outputs": [
        {
          "output_type": "stream",
          "text": [
            "Train on 50000 samples, validate on 10000 samples\n",
            "Epoch 1/100\n",
            "50000/50000 [==============================] - 2s 41us/step - loss: 1.2568e-07 - acc: 1.0000 - val_loss: 0.1328 - val_acc: 0.9833\n",
            "Epoch 2/100\n",
            "50000/50000 [==============================] - 2s 39us/step - loss: 1.2524e-07 - acc: 1.0000 - val_loss: 0.1326 - val_acc: 0.9834\n",
            "Epoch 3/100\n",
            "50000/50000 [==============================] - 2s 39us/step - loss: 1.2486e-07 - acc: 1.0000 - val_loss: 0.1327 - val_acc: 0.9833\n",
            "Epoch 4/100\n",
            "50000/50000 [==============================] - 2s 40us/step - loss: 1.2448e-07 - acc: 1.0000 - val_loss: 0.1325 - val_acc: 0.9833\n",
            "Epoch 5/100\n",
            "50000/50000 [==============================] - 2s 39us/step - loss: 1.2416e-07 - acc: 1.0000 - val_loss: 0.1329 - val_acc: 0.9834\n",
            "Epoch 6/100\n",
            "50000/50000 [==============================] - 2s 39us/step - loss: 1.2388e-07 - acc: 1.0000 - val_loss: 0.1330 - val_acc: 0.9834\n",
            "Epoch 7/100\n",
            "50000/50000 [==============================] - 2s 40us/step - loss: 1.2363e-07 - acc: 1.0000 - val_loss: 0.1329 - val_acc: 0.9834\n",
            "Epoch 8/100\n",
            "50000/50000 [==============================] - 2s 40us/step - loss: 1.2335e-07 - acc: 1.0000 - val_loss: 0.1330 - val_acc: 0.9832\n",
            "Epoch 9/100\n",
            "50000/50000 [==============================] - 2s 39us/step - loss: 1.2317e-07 - acc: 1.0000 - val_loss: 0.1331 - val_acc: 0.9833\n",
            "Epoch 10/100\n",
            "50000/50000 [==============================] - 2s 40us/step - loss: 1.2291e-07 - acc: 1.0000 - val_loss: 0.1332 - val_acc: 0.9832\n",
            "Epoch 11/100\n",
            "50000/50000 [==============================] - 2s 39us/step - loss: 1.2270e-07 - acc: 1.0000 - val_loss: 0.1333 - val_acc: 0.9831\n",
            "Epoch 12/100\n",
            "50000/50000 [==============================] - 2s 41us/step - loss: 1.2253e-07 - acc: 1.0000 - val_loss: 0.1333 - val_acc: 0.9833\n",
            "Epoch 13/100\n",
            "50000/50000 [==============================] - 2s 40us/step - loss: 1.2237e-07 - acc: 1.0000 - val_loss: 0.1334 - val_acc: 0.9834\n",
            "Epoch 14/100\n",
            "50000/50000 [==============================] - 2s 40us/step - loss: 1.2220e-07 - acc: 1.0000 - val_loss: 0.1333 - val_acc: 0.9833\n",
            "Epoch 15/100\n",
            "50000/50000 [==============================] - 2s 39us/step - loss: 1.2204e-07 - acc: 1.0000 - val_loss: 0.1335 - val_acc: 0.9833\n",
            "Epoch 16/100\n",
            "50000/50000 [==============================] - 2s 40us/step - loss: 1.2192e-07 - acc: 1.0000 - val_loss: 0.1335 - val_acc: 0.9833\n",
            "Epoch 17/100\n",
            "50000/50000 [==============================] - 2s 39us/step - loss: 1.2176e-07 - acc: 1.0000 - val_loss: 0.1336 - val_acc: 0.9833\n",
            "Epoch 18/100\n",
            "50000/50000 [==============================] - 2s 40us/step - loss: 1.2161e-07 - acc: 1.0000 - val_loss: 0.1338 - val_acc: 0.9832\n",
            "Epoch 19/100\n",
            "50000/50000 [==============================] - 2s 39us/step - loss: 1.2148e-07 - acc: 1.0000 - val_loss: 0.1337 - val_acc: 0.9832\n",
            "Epoch 20/100\n",
            "50000/50000 [==============================] - 2s 40us/step - loss: 1.2140e-07 - acc: 1.0000 - val_loss: 0.1339 - val_acc: 0.9835\n",
            "Epoch 21/100\n",
            "50000/50000 [==============================] - 2s 40us/step - loss: 1.2128e-07 - acc: 1.0000 - val_loss: 0.1339 - val_acc: 0.9833\n",
            "Epoch 22/100\n",
            "50000/50000 [==============================] - 2s 41us/step - loss: 1.2117e-07 - acc: 1.0000 - val_loss: 0.1338 - val_acc: 0.9832\n",
            "Epoch 23/100\n",
            "50000/50000 [==============================] - 2s 39us/step - loss: 1.2109e-07 - acc: 1.0000 - val_loss: 0.1340 - val_acc: 0.9831\n",
            "Epoch 24/100\n",
            "50000/50000 [==============================] - 2s 38us/step - loss: 1.2099e-07 - acc: 1.0000 - val_loss: 0.1341 - val_acc: 0.9832\n",
            "Epoch 25/100\n",
            "50000/50000 [==============================] - 2s 39us/step - loss: 1.2092e-07 - acc: 1.0000 - val_loss: 0.1341 - val_acc: 0.9832\n",
            "Epoch 26/100\n",
            "50000/50000 [==============================] - 2s 38us/step - loss: 1.2081e-07 - acc: 1.0000 - val_loss: 0.1341 - val_acc: 0.9831\n",
            "Epoch 27/100\n",
            "50000/50000 [==============================] - 2s 39us/step - loss: 1.2076e-07 - acc: 1.0000 - val_loss: 0.1343 - val_acc: 0.9831\n",
            "Epoch 28/100\n",
            "50000/50000 [==============================] - 2s 40us/step - loss: 1.2070e-07 - acc: 1.0000 - val_loss: 0.1340 - val_acc: 0.9832\n",
            "Epoch 29/100\n",
            "50000/50000 [==============================] - 2s 39us/step - loss: 1.2061e-07 - acc: 1.0000 - val_loss: 0.1343 - val_acc: 0.9833\n",
            "Epoch 30/100\n",
            "50000/50000 [==============================] - 2s 39us/step - loss: 1.2056e-07 - acc: 1.0000 - val_loss: 0.1343 - val_acc: 0.9832\n",
            "Epoch 31/100\n",
            "50000/50000 [==============================] - 2s 39us/step - loss: 1.2051e-07 - acc: 1.0000 - val_loss: 0.1343 - val_acc: 0.9832\n",
            "Epoch 32/100\n",
            "50000/50000 [==============================] - 2s 39us/step - loss: 1.2043e-07 - acc: 1.0000 - val_loss: 0.1344 - val_acc: 0.9832\n",
            "Epoch 33/100\n",
            "50000/50000 [==============================] - 2s 41us/step - loss: 1.2041e-07 - acc: 1.0000 - val_loss: 0.1344 - val_acc: 0.9832\n",
            "Epoch 34/100\n",
            "50000/50000 [==============================] - 2s 41us/step - loss: 1.2037e-07 - acc: 1.0000 - val_loss: 0.1345 - val_acc: 0.9832\n"
          ],
          "name": "stdout"
        }
      ]
    },
    {
      "cell_type": "code",
      "metadata": {
        "id": "a4MyuZ0VBLX3",
        "colab_type": "code",
        "colab": {}
      },
      "source": [
        "from IPython.display import SVG\n",
        "from keras.utils.vis_utils import model_to_dot"
      ],
      "execution_count": 0,
      "outputs": []
    },
    {
      "cell_type": "code",
      "metadata": {
        "id": "QDqFgWGtBQAo",
        "colab_type": "code",
        "outputId": "a8c5e3fd-b0e7-4ed8-df74-9f0cc395d1d7",
        "colab": {
          "base_uri": "https://localhost:8080/",
          "height": 282
        }
      },
      "source": [
        "%matplotlib inline\n",
        "import matplotlib.pyplot as plt\n",
        "def train_process_plot(hist):\n",
        "  fig, loss_ax = plt.subplots()\n",
        "  \n",
        "  acc_ax = loss_ax.twinx()\n",
        "  \n",
        "  loss_ax.plot(hist.history['loss'], 'y', label='train loss')\n",
        "  loss_ax.plot(hist.history['val_loss'], 'r', label='val loss')\n",
        "  \n",
        "  acc_ax.plot(hist.history['acc'], 'b', label='train acc')\n",
        "  acc_ax.plot(hist.history['val_acc'], 'g', label='val acc')\n",
        "  \n",
        "  loss_ax.set_xlabel('epoch')\n",
        "  loss_ax.set_ylabel('loss')\n",
        "  acc_ax.set_ylabel('accuray')\n",
        "  \n",
        "  loss_ax.legend(loc='lower left')\n",
        "  acc_ax.legend(loc='upper right')\n",
        "  \n",
        "  plt.show()\n",
        "  \n",
        "train_process_plot(hist)"
      ],
      "execution_count": 27,
      "outputs": [
        {
          "output_type": "display_data",
          "data": {
            "image/png": "[encoded data removed]",
            "text/plain": [
              "<Figure size 432x288 with 2 Axes>"
            ]
          },
          "metadata": {
            "tags": []
          }
        }
      ]
    },
    {
      "cell_type": "markdown",
      "metadata": {
        "id": "ndhFQEpHBx63",
        "colab_type": "text"
      },
      "source": [
        "# 모델 저장 및 test set 성능 확인"
      ]
    },
    {
      "cell_type": "code",
      "metadata": {
        "id": "9SVixGmjIHKF",
        "colab_type": "code",
        "colab": {}
      },
      "source": [
        "from keras.models import load_model"
      ],
      "execution_count": 0,
      "outputs": []
    },
    {
      "cell_type": "code",
      "metadata": {
        "id": "d1lkH-VnIROj",
        "colab_type": "code",
        "outputId": "5cda4dcb-ea30-4430-8197-161fd8513b78",
        "colab": {
          "base_uri": "https://localhost:8080/",
          "height": 91
        }
      },
      "source": [
        "model.save('mnist_mlp_model.h5')\n",
        "model = load_model('mnist_mlp_model.h5')\n",
        "\n",
        "loss_and_metrics = model.evaluate(test_data, test_labels, batch_size=32)\n",
        "\n",
        "print(\"\")\n",
        "print('loss : ' + str(loss_and_metrics[0]))\n",
        "print('accuray :' + str(loss_and_metrics[1]))"
      ],
      "execution_count": 0,
      "outputs": [
        {
          "output_type": "stream",
          "text": [
            "10000/10000 [==============================] - 1s 57us/step\n",
            "\n",
            "loss : [0.12829866186790503, 0.9831]\n",
            "accuray :0.9831\n"
          ],
          "name": "stdout"
        }
      ]
    },
    {
      "cell_type": "code",
      "metadata": {
        "id": "QPbi8q07KlTi",
        "colab_type": "code",
        "colab": {}
      },
      "source": [
        "digit = test_images[10]\n"
      ],
      "execution_count": 0,
      "outputs": []
    },
    {
      "cell_type": "code",
      "metadata": {
        "id": "nlHEODxQKKvU",
        "colab_type": "code",
        "outputId": "ba7ada4c-4d8b-40b8-e551-bbd53534632e",
        "colab": {
          "base_uri": "https://localhost:8080/",
          "height": 287
        }
      },
      "source": [
        "plt.imshow(digit, cmap=plt.cm.binary)"
      ],
      "execution_count": 0,
      "outputs": [
        {
          "output_type": "execute_result",
          "data": {
            "text/plain": [
              "<matplotlib.image.AxesImage at 0x7f911464fd30>"
            ]
          },
          "metadata": {
            "tags": []
          },
          "execution_count": 33
        },
        {
          "output_type": "display_data",
          "data": {
            "image/png": "[encoded data removed]",
            "text/plain": [
              "<Figure size 432x288 with 1 Axes>"
            ]
          },
          "metadata": {
            "tags": []
          }
        }
      ]
    },
    {
      "cell_type": "code",
      "metadata": {
        "id": "pHS6joMzK0j9",
        "colab_type": "code",
        "outputId": "8b1dde68-3a35-4669-eeee-58dfedf9d689",
        "colab": {
          "base_uri": "https://localhost:8080/",
          "height": 36
        }
      },
      "source": [
        "model.predict_classes(test_data)[10]"
      ],
      "execution_count": 0,
      "outputs": [
        {
          "output_type": "execute_result",
          "data": {
            "text/plain": [
              "0"
            ]
          },
          "metadata": {
            "tags": []
          },
          "execution_count": 34
        }
      ]
    }
  ]
}